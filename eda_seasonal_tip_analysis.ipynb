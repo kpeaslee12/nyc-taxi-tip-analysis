{
 "cells": [
  {
   "cell_type": "markdown",
   "id": "85c00e87",
   "metadata": {},
   "source": [
    "# Exploratory Data Analysis: NYC Taxi Tipping Behavior\n",
    "\n",
    "This notebook explores other factors that may influence tip amount, identifies unnecessary columns, and investigates evidence of seasonal tipping behavior."
   ]
  },
  {
   "cell_type": "code",
   "execution_count": null,
   "id": "4a55159a",
   "metadata": {},
   "outputs": [],
   "source": [
    "import pandas as pd\n",
    "\n",
    "# Load cleaned CSV\n",
    "df = pd.read_csv(\"taxi_cleaned.csv\")\n",
    "\n",
    "# Convert datetime\n",
    "df['tpep_pickup_datetime'] = pd.to_datetime(df['tpep_pickup_datetime'])\n",
    "\n",
    "# Add derived columns\n",
    "df['month'] = df['tpep_pickup_datetime'].dt.month\n",
    "df['hour'] = df['tpep_pickup_datetime'].dt.hour\n",
    "df['season'] = df['month'].apply(\n",
    "    lambda x: 'Winter' if x in [12, 1, 2] else (\n",
    "        'Spring' if x in [3, 4, 5] else (\n",
    "            'Summer' if x in [6, 7, 8] else 'Fall'\n",
    "        )\n",
    "    )\n",
    ")\n",
    "\n",
    "# Filter zero fare\n",
    "df = df[df['fare_amount'] > 0]\n",
    "df['tip_percent'] = (df['tip_amount'] / df['fare_amount']) * 100\n",
    "df.head()"
   ]
  },
  {
   "cell_type": "markdown",
   "id": "5bce21f6",
   "metadata": {},
   "source": [
    "### Correlation with Tip Amount and Tip Percentage"
   ]
  },
  {
   "cell_type": "code",
   "execution_count": null,
   "id": "e13fabad",
   "metadata": {},
   "outputs": [],
   "source": [
    "# Correlation with tip_amount\n",
    "corr_tip_amount = df.corr(numeric_only=True)['tip_amount'].sort_values(ascending=False)\n",
    "print(\"Correlation with tip_amount:\\n\", corr_tip_amount)\n",
    "\n",
    "# Correlation with tip_percent\n",
    "corr_tip_percent = df.corr(numeric_only=True)['tip_percent'].sort_values(ascending=False)\n",
    "print(\"\\nCorrelation with tip_percent:\\n\", corr_tip_percent)"
   ]
  },
  {
   "cell_type": "markdown",
   "id": "a75cfdfe",
   "metadata": {},
   "source": [
    "### Columns Likely Not Needed"
   ]
  },
  {
   "cell_type": "code",
   "execution_count": null,
   "id": "45d7f761",
   "metadata": {},
   "outputs": [],
   "source": [
    "likely_unneeded_columns = [\n",
    "    'VendorID', 'RatecodeID', 'store_and_fwd_flag', 'extra', 'mta_tax',\n",
    "    'improvement_surcharge', 'congestion_surcharge',\n",
    "    'tpep_dropoff_datetime', 'DOLocationID'\n",
    "]\n",
    "print(\"Columns that can likely be dropped for seasonal tip analysis:\")\n",
    "print(likely_unneeded_columns)"
   ]
  },
  {
   "cell_type": "markdown",
   "id": "1b9878e6",
   "metadata": {},
   "source": [
    "### Average Tip % by Season"
   ]
  },
  {
   "cell_type": "code",
   "execution_count": null,
   "id": "28adea08",
   "metadata": {},
   "outputs": [],
   "source": [
    "seasonal_tip_percent = df.groupby('season')['tip_percent'].mean().reset_index()\n",
    "seasonal_tip_percent.sort_values(by='tip_percent', ascending=False)"
   ]
  }
 ],
 "metadata": {},
 "nbformat": 4,
 "nbformat_minor": 5
}
