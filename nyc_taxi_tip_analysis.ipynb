{
 "cells": [
  {
   "cell_type": "markdown",
   "id": "5fc10fd3",
   "metadata": {},
   "source": [
    "# Initial Analysis: NYC Yellow Taxi Tipping by Season\n",
    "This notebook compares average tip percentages in Summer vs Winter."
   ]
  },
  {
   "cell_type": "code",
   "execution_count": null,
   "id": "daaa3775",
   "metadata": {},
   "outputs": [],
   "source": [
    "import pandas as pd\n",
    "df = pd.read_csv(\"taxi_cleaned.csv\")\n",
    "df['tpep_pickup_datetime'] = pd.to_datetime(df['tpep_pickup_datetime'])\n",
    "df = df[df['fare_amount'] > 0]\n",
    "df['tip_percent'] = (df['tip_amount'] / df['fare_amount']) * 100\n",
    "df['month'] = df['tpep_pickup_datetime'].dt.month\n",
    "df['season'] = df['month'].apply(lambda x: 'Winter' if x in [12, 1, 2] else ('Summer' if x in [6, 7, 8] else 'Other'))\n",
    "df.head()"
   ]
  },
  {
   "cell_type": "markdown",
   "id": "68845fdb",
   "metadata": {},
   "source": [
    "### Average Tip Percentage by Season"
   ]
  },
  {
   "cell_type": "code",
   "execution_count": null,
   "id": "e4dc6358",
   "metadata": {},
   "outputs": [],
   "source": [
    "seasonal = df.groupby('season')['tip_percent'].mean().reset_index()\n",
    "seasonal"
   ]
  },
  {
   "cell_type": "code",
   "execution_count": null,
   "id": "ab5890ba",
   "metadata": {},
   "outputs": [],
   "source": [
    "import matplotlib.pyplot as plt\n",
    "plt.figure(figsize=(6,4))\n",
    "plt.bar(seasonal['season'], seasonal['tip_percent'], color='skyblue')\n",
    "plt.title('Average Tip % by Season')\n",
    "plt.xlabel('Season')\n",
    "plt.ylabel('Tip %')\n",
    "plt.tight_layout()\n",
    "plt.show()"
   ]
  }
 ],
 "metadata": {},
 "nbformat": 4,
 "nbformat_minor": 5
}
